{
 "cells": [
  {
   "cell_type": "code",
   "execution_count": 1,
   "metadata": {},
   "outputs": [
    {
     "name": "stderr",
     "output_type": "stream",
     "text": [
      "/Users/qcri_shammur/Tools/anaconda3/lib/python3.7/site-packages/sklearn/externals/joblib/__init__.py:15: DeprecationWarning: sklearn.externals.joblib is deprecated in 0.21 and will be removed in 0.23. Please import this functionality directly from joblib, which can be installed with: pip install joblib. If this warning is raised when loading pickled models, you may need to re-serialize those models with scikit-learn 0.21+.\n",
      "  warnings.warn(msg, category=DeprecationWarning)\n"
     ]
    },
    {
     "name": "stdout",
     "output_type": "stream",
     "text": [
      "None\n"
     ]
    }
   ],
   "source": [
    "#!/usr/bin/env python\n",
    "\n",
    "#  Author: Shammur Absar Chowdhury; 13/02/2020\n",
    "# *************************************** #\n",
    "\n",
    "import sys\n",
    "\n",
    "sys.path.insert(1, './bin')\n",
    "import numpy as np\n",
    "import pandas as pd\n",
    "import prediction_model as mod\n",
    "import importlib\n",
    "\n",
    "\n",
    "\n"
   ]
  },
  {
   "cell_type": "code",
   "execution_count": 2,
   "metadata": {},
   "outputs": [],
   "source": [
    "\"\"\"\n",
    "Defining config file path\n",
    "\"\"\"\n",
    "config_file_name=\"models/ar_offensive_detection_svm.config\"\n",
    "\n",
    "\n",
    "\"\"\"\n",
    "Loading Model\n",
    "\"\"\"\n",
    "config_dictionary = mod.read_config(config_file_name)\n",
    "\n",
    "loaded_model, tokenizer, label_encoder = mod.load_models(config_dictionary)\n"
   ]
  },
  {
   "cell_type": "code",
   "execution_count": 3,
   "metadata": {},
   "outputs": [
    {
     "name": "stdout",
     "output_type": "stream",
     "text": [
      "class label: NOT_OFF\n"
     ]
    }
   ],
   "source": [
    "\"\"\"\n",
    "To process a single item/text, which also takes care of empty vector and returns None\n",
    "\n",
    "\"\"\"\n",
    "text=\"فقط للتصحيح، مدة الاحتكار حسب إتفاقية تريبس تبتدأ فور تسجيل الدواء كإختراع ملموس ماديا و ليس من وقت بدأ الابحاث، يعني العشرين سنة مضمونة لا وممكن تزيد لأكثة من عشرين سنة هدا ما يطلق عليه تريبس  \"\n",
    "lab=mod.predict_single_item(loaded_model, tokenizer, label_encoder, text)\n",
    "print(\"class label: %s\" % (lab))\n"
   ]
  },
  {
   "cell_type": "code",
   "execution_count": null,
   "metadata": {},
   "outputs": [],
   "source": []
  }
 ],
 "metadata": {
  "kernelspec": {
   "display_name": "Python 3",
   "language": "python",
   "name": "python3"
  },
  "language_info": {
   "codemirror_mode": {
    "name": "ipython",
    "version": 3
   },
   "file_extension": ".py",
   "mimetype": "text/x-python",
   "name": "python",
   "nbconvert_exporter": "python",
   "pygments_lexer": "ipython3",
   "version": "3.7.3"
  }
 },
 "nbformat": 4,
 "nbformat_minor": 1
}
